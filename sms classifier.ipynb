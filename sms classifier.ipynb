{
 "cells": [
  {
   "cell_type": "markdown",
   "metadata": {},
   "source": [
    "\n",
    "### 1.1  importing necessary libraries"
   ]
  },
  {
   "cell_type": "code",
   "execution_count": null,
   "metadata": {},
   "outputs": [],
   "source": [
    "import pandas as pd\n",
    "import numpy as np\n",
    "import matplotlib.pyplot as plt\n",
    "import seaborn as sns\n",
    "import string"
   ]
  },
  {
   "cell_type": "markdown",
   "metadata": {},
   "source": [
    "### 1.2 messages intuition\n",
    "sms messages classification as spam or not spam using uci data set from our intuition about spam sms we usuallly know that they contain url about the offer or concerned website. SMS spam messages are usually bulk messages containing short a short description, url, an offer/deal which is targeting a large set of users so the messages are generally short;"
   ]
  },
  {
   "cell_type": "code",
   "execution_count": null,
   "metadata": {},
   "outputs": [],
   "source": [
    "#importing sms data set and undersatnding data\n",
    "sms=pd.read_csv(r\"C:\\Users\\SANTOSH A PATIL\\Desktop\\UDACITY COURE WORK\\naive_bayes_tutorial-master\\smsspamcollection\\SMSSpamCollection.txt\",sep='\\t',header=None,names=['label','message'])\n",
    "print(sms.head())\n",
    "sms.describe()\n",
    "sms.groupby('label').describe()\n"
   ]
  },
  {
   "cell_type": "markdown",
   "metadata": {},
   "source": [
    "### 1.3 priliminary examination of the sms\n",
    "we can infer that there are 747 spam messages and  4825 not spam messages and some messages have repeated more than once\n",
    "\n"
   ]
  },
  {
   "cell_type": "markdown",
   "metadata": {},
   "source": [
    "### 1.4 Dropping duplicate sms in both spam and not spam"
   ]
  },
  {
   "cell_type": "code",
   "execution_count": null,
   "metadata": {},
   "outputs": [],
   "source": [
    "sms.drop_duplicates(inplace=True)\n",
    "sms.groupby('label').describe()"
   ]
  },
  {
   "cell_type": "markdown",
   "metadata": {},
   "source": [
    "### 1.5 after dropping duplicate messages\n",
    "\n",
    "the number of not spam messages dropped from 4825 to 4516 and and spam messages from 747 to 653\n",
    "\n",
    "for further analysis from here we have more not spam messages than spam messages\n",
    "\n"
   ]
  },
  {
   "cell_type": "markdown",
   "metadata": {},
   "source": [
    "### 1.6 Length of messages in both spam and not spam\n",
    "\n",
    "\n"
   ]
  },
  {
   "cell_type": "code",
   "execution_count": null,
   "metadata": {},
   "outputs": [],
   "source": [
    "sms['length'] = sms['message'].apply(len)\n",
    "sms.head()\n",
    "plt.title('Histogram distribution of the spam and not spam messages')\n",
    "sms['length'].hist(bins=60,figsize=(12,5))\n",
    "plt.xlim(-40,900)\n",
    "plt.xlabel('length')\n",
    "plt.ylabel('frequency')\n",
    "plt.show()\n",
    "\n",
    "\n",
    "\n",
    "sms['length'].hist(by=sms['label'],bins=60,figsize=(12,5))\n",
    "plt.xlim(-40,900);\n",
    "plt.xlabel('length')\n",
    "plt.ylabel('frequency')\n",
    "plt.show()"
   ]
  },
  {
   "cell_type": "markdown",
   "metadata": {},
   "source": [
    "### 1.6.1 Inference from the length of sms\n",
    "from the histogram distribution of both spam and not spam messages we can conclude that majority of the spam messages have a greater length. we can at this stage also conclude that if a message has a length greater than 150 we can infer that the sms will be a spam, but the accuracy of our ML model will be very less; hence for further analysis we should clean and preprocess the data;"
   ]
  },
  {
   "cell_type": "markdown",
   "metadata": {},
   "source": [
    "### 1.7.1 Binarising labels has ham(not spam) as 0 and spam as 1\n",
    "\n",
    "representing spam and not Spam(ham) as 1 and 0 makes it efficient for classifing messages"
   ]
  },
  {
   "cell_type": "code",
   "execution_count": null,
   "metadata": {},
   "outputs": [],
   "source": [
    "sms['labels'] = sms['label'].map({'ham': 0, 'spam': 1})\n",
    "sms.head()"
   ]
  },
  {
   "cell_type": "markdown",
   "metadata": {},
   "source": [
    "# 2.0 SMS Cleaning and Wrangling\n",
    "\n",
    "by simply going through the sms we see that they contain a lot of puntations, words which hinder the learning capabilities of the ML;\n",
    "hence it is necessary to clean the sms;\n",
    "to clean the sms:\n",
    "1. remove punctuation using python's string \n",
    "2. remove word like 'him', 'and' which do not add much meaning to the message using stop words from nltk\n",
    "3. re\n"
   ]
  },
  {
   "cell_type": "markdown",
   "metadata": {},
   "source": [
    "#### 2.1 delete punctuations by using python string"
   ]
  },
  {
   "cell_type": "code",
   "execution_count": null,
   "metadata": {},
   "outputs": [],
   "source": [
    "# function to delete punctuations by python string \n",
    "print('List of supported punctuations',string.punctuation)\n",
    "def delete_punctuation(msg):\n",
    "    new_msg=''.join([p for p in msg if p not in string.punctuation])\n",
    "    return new_msg\n",
    "sms['del_p_message']=sms['message'].apply(delete_punctuation)\n",
    "\n",
    "sms['del_p_length'] = sms['del_p_message'].apply(len)\n",
    "sms.head()"
   ]
  },
  {
   "cell_type": "markdown",
   "metadata": {},
   "source": [
    "### 1.7.2 Visulising sms in terms of length before and after removing punstuations"
   ]
  },
  {
   "cell_type": "code",
   "execution_count": null,
   "metadata": {},
   "outputs": [],
   "source": [
    "plt.title('Histogram distribution of the spam and not spam messages after deleting punctuations')\n",
    "sms['del_p_length'].hist(bins=60,figsize=(12,5))\n",
    "plt.xlim(-40,900)\n",
    "plt.xlabel('length')\n",
    "plt.ylabel('frequency')\n",
    "plt.show()\n",
    "\n",
    "\n",
    "sms['del_p_length'].hist(by=sms['label'],bins=60,figsize=(12,5))\n",
    "plt.xlim(-40,900);\n",
    "plt.xlabel('length')\n",
    "plt.ylabel('frequency')\n",
    "plt.show()\n",
    "\n",
    "sms['length'].hist(bins=60,alpha=1,figsize=(12,5),label='true length')\n",
    "sms['del_p_length'].hist(bins=60,alpha=0.5,figsize=(12,5),label='punctuation length')\n",
    "plt.legend(loc='upper right')\n",
    "plt.show()\n"
   ]
  },
  {
   "cell_type": "markdown",
   "metadata": {},
   "source": [
    "### 2.2 Cleaning SMS by using STOP WORDS which are not informative enough to classify as spam or not spam"
   ]
  },
  {
   "cell_type": "code",
   "execution_count": null,
   "metadata": {},
   "outputs": [],
   "source": [
    "from nltk.corpus import stopwords\n",
    "stopwords.words(\"english\")\n",
    "\n",
    "# definie function to delete stop words\n",
    "def delete_stopwords(msgp):\n",
    "    msg_no_stopwords=[x for x in msgp.split() if x.lower() not in stopwords.words(\"english\")]\n",
    "    return msg_no_stopwords\n",
    "#word for word in text if word not in stopwords\n",
    "#now send the Punctuation cleaned sms to the above function and store new sms in original data frame as sms_noSW\n",
    "\n",
    "sms['del_SW_message']=sms['del_p_message'].apply(delete_stopwords)\n",
    "\n"
   ]
  },
  {
   "cell_type": "code",
   "execution_count": null,
   "metadata": {},
   "outputs": [],
   "source": [
    "sms['del_SW_length']=sms['del_SW_message'].apply(len)\n",
    "sms['del_SW_message'].head()\n",
    "sms.head()"
   ]
  },
  {
   "cell_type": "markdown",
   "metadata": {},
   "source": [
    "## 2.2.1 SMS cleaning and wrangling Visulization and comparing histogram with Punctuation removed words\n",
    "\n"
   ]
  },
  {
   "cell_type": "code",
   "execution_count": null,
   "metadata": {},
   "outputs": [],
   "source": [
    "plt.title('Histogram distribution of the spam and not spam messages after deleting Stop words')\n",
    "sms['del_SW_length'].hist(bins=60,figsize=(12,5))\n",
    "plt.xlim(-40,900)\n",
    "plt.xlabel('length')\n",
    "plt.ylabel('frequency')\n",
    "plt.show()\n",
    "\n",
    "\n",
    "sms['del_SW_length'].hist(by=sms['label'],bins=60,figsize=(12,5))\n",
    "plt.xlim(-40,400);\n",
    "plt.xlabel('length')\n",
    "plt.ylabel('frequency')\n",
    "plt.show()\n",
    "\n",
    "sms['del_SW_length'].hist(bins=60,alpha=1,figsize=(12,5),label='no stopwords')\n",
    "sms['del_p_length'].hist(bins=60,alpha=0.5,figsize=(12,5),label='punctuation length')\n",
    "sms['length'].hist(bins=60,alpha=0.4,figsize=(12,5),label='true length')\n",
    "plt.legend(loc='upper right')\n",
    "plt.show()\n"
   ]
  },
  {
   "cell_type": "markdown",
   "metadata": {},
   "source": [
    "#### 2.3 SMS word vizulization using wordcount"
   ]
  },
  {
   "cell_type": "code",
   "execution_count": null,
   "metadata": {},
   "outputs": [],
   "source": [
    "#pictorially represent spam and not spam words using WordCloud\n",
    "from wordcloud import WordCloud\n",
    "spam_words = ' '.join(list(sms[sms['labels'] == 1]['message']))\n",
    "spam_wc = WordCloud(width = 512,height = 512).generate(spam_words)\n",
    "plt.figure(figsize = (10, 8), facecolor = 'k')\n",
    "plt.imshow(spam_wc)\n",
    "plt.axis('off')\n",
    "plt.tight_layout(pad = 0)\n",
    "plt.show()\n",
    "\n",
    "notspam_words = ' '.join(list(sms[sms['labels'] == 0]['message']))\n",
    "notspam_wc = WordCloud(width = 512,height = 512).generate(notspam_words)\n",
    "plt.figure(figsize = (10, 8), facecolor = 'k')\n",
    "plt.imshow(notspam_wc)\n",
    "plt.axis('off')\n",
    "plt.tight_layout(pad = 0)\n",
    "plt.show()\n"
   ]
  },
  {
   "cell_type": "code",
   "execution_count": null,
   "metadata": {},
   "outputs": [],
   "source": [
    "print(spam_words)"
   ]
  },
  {
   "cell_type": "markdown",
   "metadata": {},
   "source": [
    "### 2.4 Visulizing the most frequent words in spam and not spam messsages\n",
    "\n",
    "It is import to know the words that make up the bulk of the text messages that distinguishes a message from spam and not spam, beacuse these words in spam are used my marketers to get our attention in a message and click the link or collect an offer\n"
   ]
  },
  {
   "cell_type": "code",
   "execution_count": 58,
   "metadata": {},
   "outputs": [],
   "source": [
    "from collections import Counter\n",
    "#creating a list of spam and not spam words\n",
    "\n",
    "spam_elements=[]\n",
    "ham_elements=[]\n",
    "for x,y in zip(sms['del_SW_message'],sms['labels']):\n",
    "    if y==1:\n",
    "        spam_elements.append(x)\n",
    "    elif y==0:\n",
    "        ham_elements.append(x)\n",
    "\n",
    "spam_wordslist = []\n",
    "for q in spam_elements:\n",
    "    for w in q:\n",
    "        spam_wordslist.append(w)\n",
    "\n",
    "ham_wordslist = []\n",
    "for sublist in ham_elements:\n",
    "    for item in sublist:\n",
    "        ham_wordslist.append(item)\n",
    "\n",
    "count_spam  = Counter(spam_wordslist)\n",
    "count_ham = Counter(ham_wordslist)\n",
    "spam_top50  = pd.DataFrame(count_spam.most_common(50),  columns=['word', 'count'])\n",
    "ham_top50 = pd.DataFrame(count_ham.most_common(50), columns=['word', 'count'])\n"
   ]
  },
  {
   "cell_type": "code",
   "execution_count": 60,
   "metadata": {},
   "outputs": [
    {
     "data": {
      "text/plain": [
       "(array([ 0,  1,  2,  3,  4,  5,  6,  7,  8,  9, 10, 11, 12, 13, 14, 15, 16,\n",
       "        17, 18, 19, 20, 21, 22, 23, 24, 25, 26, 27, 28, 29, 30, 31, 32, 33,\n",
       "        34, 35, 36, 37, 38, 39, 40, 41, 42, 43, 44, 45, 46, 47, 48, 49]),\n",
       " <a list of 50 Text major ticklabel objects>)"
      ]
     },
     "execution_count": 60,
     "metadata": {},
     "output_type": "execute_result"
    },
    {
     "data": {
      "image/png": "[encoded data removed]",
      "text/plain": [
       "<Figure size 1080x720 with 1 Axes>"
      ]
     },
     "metadata": {
      "needs_background": "light"
     },
     "output_type": "display_data"
    },
    {
     "data": {
      "image/png": "[encoded data removed]",
      "text/plain": [
       "<Figure size 1080x720 with 1 Axes>"
      ]
     },
     "metadata": {
      "needs_background": "light"
     },
     "output_type": "display_data"
    }
   ],
   "source": [
    "fig, axis = plt.subplots(figsize=(15, 10))\n",
    "sns.barplot(x='word', y='count',data=spam_top50, ax=axis)\n",
    "plt.title(\"Top 50 spam words\")\n",
    "plt.xticks(rotation='vertical')\n",
    "\n",
    "fig, ax = plt.subplots(figsize=(15, 10))\n",
    "sns.barplot(x='word', y='count',data=ham_top50, ax=ax)\n",
    "plt.title(\"Top 50 ham words\")\n",
    "plt.xticks(rotation='vertical')\n"
   ]
  },
  {
   "cell_type": "markdown",
   "metadata": {},
   "source": [
    "### 2.5 the words into training set and test test\n",
    "\n"
   ]
  },
  {
   "cell_type": "code",
   "execution_count": null,
   "metadata": {},
   "outputs": [],
   "source": [
    "#splitting data into training and test data\n",
    "from sklearn.model_selection import train_test_split\n",
    "\n",
    "xtrain, xtest, ytrain, ytest=train_test_split(sms['del_SW_message'],sms['labels'], random_state=1)\n",
    "print('Training messages size',xtrain.shape[0])\n",
    "print('Testing messages size',xtest.shape[0])"
   ]
  },
  {
   "cell_type": "markdown",
   "metadata": {},
   "source": [
    "### 2.5 Create Bag of Words using Count vectorizer\n"
   ]
  },
  {
   "cell_type": "code",
   "execution_count": null,
   "metadata": {},
   "outputs": [],
   "source": [
    "from sklearn.feature_extraction.text import CountVectorizer\n",
    "bow_transformer = CountVectorizer(analyzer = sms['del_SW_message']).fit(sms['message'])"
   ]
  },
  {
   "cell_type": "code",
   "execution_count": null,
   "metadata": {},
   "outputs": [],
   "source": []
  }
 ],
 "metadata": {
  "kernelspec": {
   "display_name": "Python 3",
   "language": "python",
   "name": "python3"
  },
  "language_info": {
   "codemirror_mode": {
    "name": "ipython",
    "version": 3
   },
   "file_extension": ".py",
   "mimetype": "text/x-python",
   "name": "python",
   "nbconvert_exporter": "python",
   "pygments_lexer": "ipython3",
   "version": "3.7.3"
  }
 },
 "nbformat": 4,
 "nbformat_minor": 4
}
