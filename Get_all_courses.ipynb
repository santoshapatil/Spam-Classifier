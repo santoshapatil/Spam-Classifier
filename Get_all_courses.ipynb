{
  "nbformat": 4,
  "nbformat_minor": 0,
  "metadata": {
    "kernelspec": {
      "display_name": "Python 3",
      "language": "python",
      "name": "python3"
    },
    "language_info": {
      "codemirror_mode": {
        "name": "ipython",
        "version": 3
      },
      "file_extension": ".py",
      "mimetype": "text/x-python",
      "name": "python",
      "nbconvert_exporter": "python",
      "pygments_lexer": "ipython3",
      "version": "3.8.2"
    },
    "colab": {
      "name": "Get all courses",
      "provenance": [],
      "collapsed_sections": [],
      "toc_visible": true
    }
  },
  "cells": [
    {
      "cell_type": "code",
      "metadata": {
        "id": "5Jh0j1APW-bR"
      },
      "source": [
        "from bs4 import BeautifulSoup\n",
        "import requests\n",
        "import os\n",
        "import pandas as pd"
      ],
      "execution_count": null,
      "outputs": []
    },
    {
      "cell_type": "code",
      "metadata": {
        "id": "PAPii3fPSljL"
      },
      "source": [
        "#For Specialization\n",
        "spl_title=[]\n",
        "spl_link=[]\n",
        "\n",
        "\n",
        "for i in range(1,16):\n",
        "    #44&index=prod_all_products_term_optimization_v3&entityTypeDescription=Specializations&allLanguages=English\n",
        "    url = \"https://www.coursera.org/directory/specializations?page=\" +str(i)\n",
        "    page = requests.get(url)\n",
        "    soup = BeautifulSoup(page.content, 'html.parser')\n",
        "    st = soup.find_all('a', class_ =\"c-directory-link\")\n",
        "    num=len(st)\n",
        "    for j in range(1,num):\n",
        "        #spl-title\n",
        "        st = soup.find_all('a', class_ =\"c-directory-link\")[j].get_text()\n",
        "        spl_title.append(st)       \n",
        "        #spl URL\n",
        "        curl= soup.find_all(\"a\", class_='c-directory-link')[j]\n",
        "        spl_link.append(\"https://www.coursera.org\"+ curl.get('href'))\n",
        "\n",
        "#creating a dataframe of all specializations\n",
        "splz=pd.DataFrame({'spl_title':spl_title,\n",
        "                   'spl_link':spl_link})\n",
        "\n",
        "#writing into a .csv file\n",
        "#coursera_df.to_csv('Coursera_catalog.csv')"
      ],
      "execution_count": null,
      "outputs": []
    },
    {
      "cell_type": "code",
      "metadata": {
        "id": "OscX1URmVySd"
      },
      "source": [
        "#get all courses on coursera\n",
        "course_title=[]\n",
        "course_link=[]\n",
        "\n",
        "cnt=0\n",
        "for i in range(1,153):\n",
        "    #44&index=prod_all_products_term_optimization_v3&entityTypeDescription=Specializations&allLanguages=English\n",
        "    url = \"https://www.coursera.org/directory/courses?page=\" +str(i)\n",
        "    page = requests.get(url)\n",
        "    soup = BeautifulSoup(page.content, 'html.parser')\n",
        "    st = soup.find_all('a', class_ =\"c-directory-link\")\n",
        "    num=len(st)\n",
        "    for j in range(1,num):\n",
        "        #course-title\n",
        "        ct = soup.find_all('a', class_ =\"c-directory-link\")[j].get_text()\n",
        "        cnt=cnt+1\n",
        "        course_title.append(ct)       \n",
        "        #course URL\n",
        "        curl= soup.find_all(\"a\", class_='c-directory-link')[j]\n",
        "        course_link.append(\"https://www.coursera.org\"+ curl.get('href'))\n",
        "\n",
        "#creating a dataframe of all specializations\n",
        "courses=pd.DataFrame({'course_title':course_title,\n",
        "                   'course_link':course_link})\n",
        "\n",
        "#writing into a .csv file\n",
        "#coursera_df.to_csv('Coursera_catalog.csv')"
      ],
      "execution_count": null,
      "outputs": []
    },
    {
      "cell_type": "code",
      "metadata": {
        "id": "LBTVNisRyb-Z",
        "outputId": "58413713-4cd3-4fa9-c556-e47b78da7769",
        "colab": {
          "base_uri": "https://localhost:8080/",
          "height": 36
        }
      },
      "source": [
        "courses.course_title.at[25]"
      ],
      "execution_count": null,
      "outputs": [
        {
          "output_type": "execute_result",
          "data": {
            "application/vnd.google.colaboratory.intrinsic+json": {
              "type": "string"
            },
            "text/plain": [
              "'System Administration and IT Infrastructure Services (Google)'"
            ]
          },
          "metadata": {
            "tags": []
          },
          "execution_count": 3
        }
      ]
    },
    {
      "cell_type": "code",
      "metadata": {
        "id": "GBzKsckQi2Cx"
      },
      "source": [
        "cs=courses.iloc[[16,27,24,25]]\n",
        "uuur=cs.course_link"
      ],
      "execution_count": null,
      "outputs": []
    },
    {
      "cell_type": "code",
      "metadata": {
        "id": "md9IEISuXO0z"
      },
      "source": [
        "cs=courses.iloc[[27,24]]\n",
        "uuur=cs.course_link"
      ],
      "execution_count": null,
      "outputs": []
    },
    {
      "cell_type": "code",
      "metadata": {
        "id": "zE6RJO4rG3-W",
        "outputId": "46a5018e-e995-41e9-f74a-930bda2e0e93",
        "colab": {
          "base_uri": "https://localhost:8080/"
        }
      },
      "source": [
        "uuur"
      ],
      "execution_count": 16,
      "outputs": [
        {
          "output_type": "execute_result",
          "data": {
            "text/plain": [
              "27    https://www.coursera.org/learn/use-canva-to-cr...\n",
              "24    https://www.coursera.org/learn/supervised-lear...\n",
              "Name: course_link, dtype: object"
            ]
          },
          "metadata": {
            "tags": []
          },
          "execution_count": 16
        }
      ]
    },
    {
      "cell_type": "code",
      "metadata": {
        "id": "GsGeoprrW-dA",
        "outputId": "2667d60a-21c7-4d52-e414-109baa183fdc",
        "colab": {
          "base_uri": "https://localhost:8080/"
        }
      },
      "source": [
        "#To get detail of each course\n",
        "#<div class=\"_fc5ifbq _bv93ce\"><div class=\"_y7t2xd\"><div class=\"_jyhj5r\"><div class=\"_kfriz5q _1qmc0oh\"><div class=\"_1lkgrbf\"><span>In this <strong>Guided Project</strong>, you will:</span><div class=\"_9627xo\"><div class=\"_8m7gipb _1rwv36k\"><svg class=\"_ufjrdd\" aria-hidden=\"true\" focusable=\"false\" style=\"fill:#2A73CC;height:20px;width:20px\" viewBox=\"0 0 48 48\" role=\"img\" aria-labelledby=\"Checke36294ae-aab8-480c-8f30-e616b69fc8c2 Checke36294ae-aab8-480c-8f30-e616b69fc8c2Desc\" xmlns=\"http://www.w3.org/2000/svg\"><polygon points=\"17.4333333 31.6416667 8.85833333 23.0666667 6 25.925 17.4333333 37.3583333 41.9333333 12.8583333 39.075 10\" role=\"presentation\"></polygon></svg><span class=\"_in3ncn\"><div id=\"\" class=\"rc-CML styled\" dir=\"auto\"><div><p>Import and Transform Data with Power BI Desktop</p></div></div></span></div><div class=\"_8m7gipb _1rwv36k\"><svg class=\"_ufjrdd\" aria-hidden=\"true\" focusable=\"false\" style=\"fill:#2A73CC;height:20px;width:20px\" viewBox=\"0 0 48 48\" role=\"img\" aria-labelledby=\"Checka4d9620f-443c-4993-80d4-a4d8c610b13a Checka4d9620f-443c-4993-80d4-a4d8c610b13aDesc\" xmlns=\"http://www.w3.org/2000/svg\"><polygon points=\"17.4333333 31.6416667 8.85833333 23.0666667 6 25.925 17.4333333 37.3583333 41.9333333 12.8583333 39.075 10\" role=\"presentation\"></polygon></svg><span class=\"_in3ncn\"><div id=\"\" class=\"rc-CML styled\" dir=\"auto\"><div><p>Visualize Data with Power BI Desktop</p></div></div></span></div></div></div></div><div class=\"_1heljyvq\"><div class=\"_jyhj5r _1106utu\"><div class=\"_pu0m129 _b4xh8r\"><div class=\"_8m7gipb _1f096on\"><svg class=\"_ufjrdd\" style=\"fill:#1F1F1F;height:24px;width:24px\" viewBox=\"0 0 48 48\" role=\"img\" aria-labelledby=\"Clock80815399-2ecd-4c1f-a052-1bdd689a4c6e Clock80815399-2ecd-4c1f-a052-1bdd689a4c6eDesc\" xmlns=\"http://www.w3.org/2000/svg\"><title id=\"Clock80815399-2ecd-4c1f-a052-1bdd689a4c6e\">Clock</title><path d=\"M24 47C11.318375 47 1 36.681625 1 24S11.318375 1 24 1s23 10.318375 23 23-10.318375 23-23 23zM2.91666667 24c0 11.6255417 9.45779163 21.0833333 21.08333333 21.0833333S45.0833333 35.6255417 45.0833333 24 35.6255417 2.91666667 24 2.91666667 2.91666667 12.3744583 2.91666667 24zm19.12500003 1.9166667V6.70833333h2.9166666V23H35.5v2.9166667H22.0416667z\" role=\"presentation\"></path></svg><span class=\"_1rcyblj\">2 hours</span></div><div class=\"_8m7gipb _1f096on\"><svg fill=\"none\" class=\"_ufjrdd\" style=\"fill:#1F1F1F;height:24px;width:24px\" viewBox=\"0 0 48 48\" role=\"img\" aria-labelledby=\"Beginnera3cdf22e-a790-4bca-c0d5-2f575f947248 Beginnera3cdf22e-a790-4bca-c0d5-2f575f947248Desc\" xmlns=\"http://www.w3.org/2000/svg\"><title id=\"Beginnera3cdf22e-a790-4bca-c0d5-2f575f947248\">Beginner</title><g id=\"Beginner\" role=\"presentation\"><path fill-rule=\"evenodd\" clip-rule=\"evenodd\" d=\"M18.7825 15V46H14.6086V30H4.17384V43.9058L4.17383 45L4.17384 46H43.826L43.826 45L43.826 43.9058V2H33.3912V46H29.2173V15H18.7825ZM20.8694 43.9058H27.1303V17H20.8694V43.9058ZM35.4782 43.9048H41.7381V4H35.4782V43.9048Z\" id=\"SvgBeginner\"></path></g></svg><span class=\"_1ounhrgz\">Beginner</span></div><div class=\"_8m7gipb _1f096on\"><svg fill=\"none\" class=\"_ufjrdd\" style=\"fill:#1F1F1F;height:24px;width:24px\" viewBox=\"0 0 24 24\" role=\"img\" aria-labelledby=\"Cloudc16068a8-7349-4ce3-9828-86a4d0ad1bb2 Cloudc16068a8-7349-4ce3-9828-86a4d0ad1bb2Desc\" xmlns=\"http://www.w3.org/2000/svg\"><title id=\"Cloudc16068a8-7349-4ce3-9828-86a4d0ad1bb2\">Cloud</title><g id=\"Cloud\" role=\"presentation\"><path fill-rule=\"evenodd\" clip-rule=\"evenodd\" d=\"M18.9295 9.519C18.4485 6.11 15.487 3.5 12 3.5C8.14 3.5 5 6.6405 5 10.5V11H4.75C2.3995 11 0.426 12.7225 0.0645 15H0V20.5H8H16C16 20.5 16 19.8905 16 19.5C10.1421 19.5 1 19.5 1 19.5V15.7325L1.012 15.5295C1.1275 13.5505 2.7695 12 4.75 12H6V10.5C6 7.192 8.6915 4.5 12 4.5C15.1175 4.5 17.7445 6.933 17.9805 10.039L18.0365 10.5H18.5C20.9815 10.5 23 12.519 23 15C23 17.4815 20.9815 19.5 18.5 19.5C18.5 19.5 16.9763 19.5 16 19.5C16 19.8905 16 20.5 16 20.5H18.5C21.533 20.5 24 18.033 24 15C24 12.118 21.772 9.7465 18.9295 9.519Z\" id=\"SvgCloud\"></path></g></svg><span class=\"_1rcyblj\">No download needed</span></div></div><div class=\"_pu0m129 _b4xh8r\"><div class=\"_8m7gipb _1f096on\"><svg fill=\"none\" class=\"_ufjrdd\" style=\"fill:#1F1F1F;height:24px;width:24px\" viewBox=\"0 0 48 48\" role=\"img\" aria-labelledby=\"Video995374e9-0dff-424b-804b-4c0752a1b442 Video995374e9-0dff-424b-804b-4c0752a1b442Desc\" xmlns=\"http://www.w3.org/2000/svg\"><title id=\"Video995374e9-0dff-424b-804b-4c0752a1b442\">Video</title><g id=\"Video\" role=\"presentation\"><path fill-rule=\"evenodd\" clip-rule=\"evenodd\" d=\"M0 41H48V8H0V41ZM2 39H46V10H2V39ZM19.3844 33.1449V15.1007L33.6784 24.1228L19.3844 33.1449Z\" id=\"SvgVideoSquare\"></path></g></svg><span class=\"_1rcyblj\">Split-screen video</span></div><div class=\"_8m7gipb _1f096on\"><svg class=\"_ufjrdd\" style=\"fill:#1F1F1F;height:24px;width:24px\" viewBox=\"0 0 48 48\" role=\"img\" aria-labelledby=\"CommentDots456bc6dd-7c46-4eda-efc3-8c83dfef9182 CommentDots456bc6dd-7c46-4eda-efc3-8c83dfef9182Desc\" xmlns=\"http://www.w3.org/2000/svg\"><title id=\"CommentDots456bc6dd-7c46-4eda-efc3-8c83dfef9182\">Comment Dots</title><path d=\"M11.4782609,2.03497615 C6.30052174,2.03497615 2.08695652,6.143593 2.08695652,11.1923688 L2.08695652,43.5739269 L15.2556522,32.5596184 L36.5217391,32.5596184 C41.6994783,32.5596184 45.9130435,28.4510016 45.9130435,23.4022258 L45.9130435,11.1923688 C45.9130435,6.143593 41.6994783,2.03497615 36.5217391,2.03497615 L11.4782609,2.03497615 Z M0,48 L0,11.1923688 C0,5.02130366 5.14956522,0 11.4782609,0 L36.5217391,0 C42.8504348,0 48,5.02130366 48,11.1923688 L48,23.4022258 C48,29.5732909 42.8504348,34.5945946 36.5217391,34.5945946 L16.0278261,34.5945946 L0,48 Z M17.7391304,17.2972973 C17.7391304,15.6113196 16.3377391,14.2448331 14.6086957,14.2448331 C12.8796522,14.2448331 11.4782609,15.6113196 11.4782609,17.2972973 C11.4782609,18.983275 12.8796522,20.3497615 14.6086957,20.3497615 C16.3377391,20.3497615 17.7391304,18.983275 17.7391304,17.2972973 Z M27.1304348,17.2972973 C27.1304348,15.6113196 25.7290435,14.2448331 24,14.2448331 C22.2709565,14.2448331 20.8695652,15.6113196 20.8695652,17.2972973 C20.8695652,18.983275 22.2709565,20.3497615 24,20.3497615 C25.7290435,20.3497615 27.1304348,18.983275 27.1304348,17.2972973 Z M36.5217391,17.2972973 C36.5217391,15.6113196 35.1203478,14.2448331 33.3913043,14.2448331 C31.6622609,14.2448331 30.2608696,15.6113196 30.2608696,17.2972973 C30.2608696,18.983275 31.6622609,20.3497615 33.3913043,20.3497615 C35.1203478,20.3497615 36.5217391,18.983275 36.5217391,17.2972973 Z\" role=\"presentation\"></path></svg><span class=\"_1rcyblj\">English</span></div><div class=\"_8m7gipb _1f096on\"><svg class=\"_ufjrdd\" style=\"fill:#1F1F1F;height:24px;width:24px\" viewBox=\"0 0 48 48\" role=\"img\" aria-labelledby=\"Laptopcefede78-ffeb-4a76-b8ba-e237a7f6a07f Laptopcefede78-ffeb-4a76-b8ba-e237a7f6a07fDesc\" xmlns=\"http://www.w3.org/2000/svg\"><title id=\"Laptopcefede78-ffeb-4a76-b8ba-e237a7f6a07f\">Laptop</title><path d=\"M4,0 L44.001,0 L44.001,24.719 L48,32.764 L48,38 L0,38 L0,32.764 L4,24.764 L4,0 Z M6.001,24 L42.001,24 L42.001,2 L6.001,2 L6.001,24 Z M2,33.235 L2,36 L46,36 L46,33.234 L42.403,26 L5.618,26 L2,33.235 Z M18,34 L30,34 L30,31.999 L18,31.999 L18,34 Z\" role=\"presentation\"></path></svg><span class=\"_1rcyblj\">Desktop only</span></div></div></div></div></div></div></div>\n",
        "course_name=[]\n",
        "course_type=[]\n",
        "course_photo_URL=[]\n",
        "typ=[]\n",
        "typ_name=[]\n",
        "university_name=[]\n",
        "university_logo=[]\n",
        "spl_skills=[]\n",
        "course_tit=[]\n",
        "time_required=[]\n",
        "level=[]\n",
        "\n",
        "for urlC in uuur:\n",
        "    page_course = requests.get(urlC)\n",
        "    soup = BeautifulSoup(page_course.content, 'html.parser')\n",
        "    #print(urlC)\n",
        "    gu=soup.find('div',class_=\"_fc5ifbq _bv93ce\")\n",
        "    #print(gu)\n",
        "    #print(urlC)\n",
        "    if gu is None:\n",
        "      \n",
        "      #attaching course name\n",
        "      cnn=soup.find('h1',class_=\"banner-title m-b-0 banner-title-without--subtitle\").get_text()\n",
        "      course_name.append(cnn)\n",
        "      \n",
        "    \n",
        "      #attaching University/ institute name \n",
        "      univ = soup.find('h4', class_ = 'headline-4-text bold rc-Partner__title').get_text()\n",
        "      university_name.append(univ)\n",
        "\n",
        "      #get time required to complete\n",
        "      tim=soup.find_all('div',class_='_16ni8zai m-b-0 m-t-1s')\n",
        "      for i in range(0,2):\n",
        "\n",
        "        if i==0:\n",
        "          lev=tim[i].get_text()\n",
        "          print(lev)\n",
        "          level.append(lev)\n",
        "        else:\n",
        "          vtim=tim[i].get_text()\n",
        "          time_required.append(vtim)\n",
        "          print(vtim)\n",
        "      \n",
        "\n",
        "      #get university logo url\n",
        "      u_logo=soup.find('div',class_='rc-Partner')\n",
        "      l=u_logo.find('img').get('src')\n",
        "      university_logo.append(l)\n",
        "\n",
        "  \n",
        "        \n",
        "\n",
        "\n"
      ],
      "execution_count": 55,
      "outputs": [
        {
          "output_type": "stream",
          "text": [
            "Intermediate Level\n",
            "Approx. 11 hours to complete\n"
          ],
          "name": "stdout"
        }
      ]
    },
    {
      "cell_type": "code",
      "metadata": {
        "id": "ISMiRrgB1xss",
        "outputId": "f38c73ce-ac53-42ac-b24d-e49c6e9e09d8",
        "colab": {
          "base_uri": "https://localhost:8080/"
        }
      },
      "source": [
        "level"
      ],
      "execution_count": 52,
      "outputs": [
        {
          "output_type": "execute_result",
          "data": {
            "text/plain": [
              "['Intermediate Level']"
            ]
          },
          "metadata": {
            "tags": []
          },
          "execution_count": 52
        }
      ]
    },
    {
      "cell_type": "code",
      "metadata": {
        "id": "ADT8bP9blB4L",
        "outputId": "9b672739-29e2-4429-98f2-d14704075e5d",
        "colab": {
          "base_uri": "https://localhost:8080/"
        }
      },
      "source": [
        "time_required"
      ],
      "execution_count": 53,
      "outputs": [
        {
          "output_type": "execute_result",
          "data": {
            "text/plain": [
              "[]"
            ]
          },
          "metadata": {
            "tags": []
          },
          "execution_count": 53
        }
      ]
    },
    {
      "cell_type": "code",
      "metadata": {
        "id": "Xub8ZIFdlbq8",
        "outputId": "61716339-14e8-418b-dd92-3db141693fa9",
        "colab": {
          "base_uri": "https://localhost:8080/"
        }
      },
      "source": [
        "typ_name"
      ],
      "execution_count": null,
      "outputs": [
        {
          "output_type": "execute_result",
          "data": {
            "text/plain": [
              "[[]]"
            ]
          },
          "metadata": {
            "tags": []
          },
          "execution_count": 39
        }
      ]
    },
    {
      "cell_type": "code",
      "metadata": {
        "id": "jMF7T1DvW-dX"
      },
      "source": [
        "course_skills=[]\n",
        "skills = []\n",
        "course_top_instructor=[]\n",
        "sub_course_list=[]\n",
        "course_list=[]"
      ],
      "execution_count": null,
      "outputs": []
    },
    {
      "cell_type": "code",
      "metadata": {
        "id": "1dVvzw4kW-dr"
      },
      "source": [
        "typ=[]\n",
        "typ_name=[]\n",
        "university_logo=[]\n",
        "spl_skills=[]\n",
        "course_tit=[]\n",
        "\n",
        "# getting course info\n",
        "for urlC in course_spl.course_link:\n",
        "    page_course = requests.get(urlC)\n",
        "    soup_course = BeautifulSoup(page_course.content, 'html.parser')\n",
        "    # to get specialization skills\n",
        "    skills= [x.get_text() for x in soup_course.find_all('span', class_ = '_rsc0bd m-r-1s m-b-1s')]\n",
        "    spl_skills.append(skills)\n",
        "    skills=[]\n",
        "    cl= soup_course.find_all('div', class_ = '_jyhj5r CourseItem')\n",
        "    for c in cl:\n",
        "        \n",
        "        course_title=c.find('h3',class_=\"headline-3-text bold m-t-1 m-b-2\").get_text()\n",
        "        \n",
        "        course_tit.append(course_title)\n",
        "    "
      ],
      "execution_count": null,
      "outputs": []
    },
    {
      "cell_type": "code",
      "metadata": {
        "id": "QE4XQ7neDfYv"
      },
      "source": [
        ""
      ],
      "execution_count": null,
      "outputs": []
    },
    {
      "cell_type": "code",
      "metadata": {
        "id": "V3YnnYGsW-d1",
        "outputId": "da15ec8b-0860-4276-d66b-90d8d6d49a9c",
        "colab": {
          "base_uri": "https://localhost:8080/",
          "height": 74
        }
      },
      "source": [
        "print(course_skills[:5])\n",
        "print(len(course_skills))"
      ],
      "execution_count": null,
      "outputs": [
        {
          "output_type": "stream",
          "text": [
            "[['Debugging', 'Encryption Algorithms and Techniques', 'Customer Service', 'Network Protocols', 'Cloud Computing', 'Binary Code', 'Customer Support', 'Linux', 'Troubleshooting', 'Domain Name System (DNS)', 'Ipv4', 'Network Model'], ['Data Science', 'Statistical Analysis', 'Machine Learning', 'Python Programming', 'Business Intelligence', 'Data Analysis', 'Pandas', 'Numpy', 'Cloud Databases', 'Ipython', 'Relational Database Management System (RDBMS)', 'SQL'], ['Data Science', 'Relational Database Management System (RDBMS)', 'Cloud Databases', 'Python Programming', 'SQL', 'Ipython'], ['Tensorflow', 'Convolutional Neural Network', 'Artificial Neural Network', 'Deep Learning', 'Backpropagation', 'Python Programming', 'Hyperparameter', 'Hyperparameter Optimization', 'Machine Learning', 'Inductive Transfer', 'Multi-Task Learning', 'Facial Recognition System'], ['Json', 'Xml', 'Python Programming', 'Database (DBMS)', 'Python Syntax And Semantics', 'Basic Programming Language', 'Computer Programming', 'Data Structure', 'Tuple', 'Web Scraping', 'Sqlite', 'SQL']]\n",
            "891\n"
          ],
          "name": "stdout"
        }
      ]
    },
    {
      "cell_type": "code",
      "metadata": {
        "id": "sFsxIhYOW-eD"
      },
      "source": [
        "coursera_df['course_skills']=course_skills\n",
        "coursera_df['course_top_instructor']=course_top_instructor\n",
        "coursera_df['sub_course_list']=sub_course_list"
      ],
      "execution_count": null,
      "outputs": []
    },
    {
      "cell_type": "code",
      "metadata": {
        "id": "n5F2sGUEW-eS"
      },
      "source": [
        "print(coursera_df)"
      ],
      "execution_count": null,
      "outputs": []
    },
    {
      "cell_type": "code",
      "metadata": {
        "id": "-OhoG7r7cIKa"
      },
      "source": [
        "coursera_df.sub_course_list.to_excel('output1.xlsx')"
      ],
      "execution_count": null,
      "outputs": []
    },
    {
      "cell_type": "code",
      "metadata": {
        "id": "5yaCMG-_W-ed"
      },
      "source": [
        "coursera_df.to_csv('Coursera_catalog.csv')\n"
      ],
      "execution_count": null,
      "outputs": []
    },
    {
      "cell_type": "code",
      "metadata": {
        "id": "I7M6YJq1W-es",
        "outputId": "a52dc72e-0403-4912-d93a-ca79fd961e1e",
        "colab": {
          "base_uri": "https://localhost:8080/",
          "height": 472
        }
      },
      "source": [
        "#Getting Instructors\n",
        "for urlC in course_URL:\n",
        "    url_course=\"https://www.coursera.org/specializations/deep-learning\"\n",
        "    page_course = requests.get(url_course)\n",
        "    soup_course = BeautifulSoup(page_course.content, 'html.parser')\n",
        "    instructor= soup_course.find('h3', class_ = 'instructor-name headline-3-text bold').get_text()\n",
        "    course_top_instructor.append(instructor[:-14])\n",
        "    \n",
        "    cl= soup_course.find_all('div', class_ = '_jyhj5r CourseItem')\n",
        "    for c in cl:\n",
        "        course_number=c.find('span',class_=\"_1nc68rjl text-secondary d-block m-y-1\").get_text()\n",
        "        course_title=c.find('h3',class_=\"headline-3-text bold m-t-1 m-b-2\").get_text()\n",
        "        course_list.append(course_number.strip())\n",
        "        course_list.append(course_title)\n",
        "    sub_course_list.append(course_list)\n"
      ],
      "execution_count": null,
      "outputs": [
        {
          "output_type": "error",
          "ename": "KeyboardInterrupt",
          "evalue": "ignored",
          "traceback": [
            "\u001b[0;31m---------------------------------------------------------------------------\u001b[0m",
            "\u001b[0;31mTypeError\u001b[0m                                 Traceback (most recent call last)",
            "\u001b[0;32m/usr/local/lib/python3.6/dist-packages/urllib3/connectionpool.py\u001b[0m in \u001b[0;36m_make_request\u001b[0;34m(self, conn, method, url, timeout, chunked, **httplib_request_kw)\u001b[0m\n\u001b[1;32m    376\u001b[0m             \u001b[0;32mtry\u001b[0m\u001b[0;34m:\u001b[0m  \u001b[0;31m# Python 2.7, use buffering of HTTP responses\u001b[0m\u001b[0;34m\u001b[0m\u001b[0;34m\u001b[0m\u001b[0m\n\u001b[0;32m--> 377\u001b[0;31m                 \u001b[0mhttplib_response\u001b[0m \u001b[0;34m=\u001b[0m \u001b[0mconn\u001b[0m\u001b[0;34m.\u001b[0m\u001b[0mgetresponse\u001b[0m\u001b[0;34m(\u001b[0m\u001b[0mbuffering\u001b[0m\u001b[0;34m=\u001b[0m\u001b[0;32mTrue\u001b[0m\u001b[0;34m)\u001b[0m\u001b[0;34m\u001b[0m\u001b[0;34m\u001b[0m\u001b[0m\n\u001b[0m\u001b[1;32m    378\u001b[0m             \u001b[0;32mexcept\u001b[0m \u001b[0mTypeError\u001b[0m\u001b[0;34m:\u001b[0m  \u001b[0;31m# Python 3\u001b[0m\u001b[0;34m\u001b[0m\u001b[0;34m\u001b[0m\u001b[0m\n",
            "\u001b[0;31mTypeError\u001b[0m: getresponse() got an unexpected keyword argument 'buffering'",
            "\nDuring handling of the above exception, another exception occurred:\n",
            "\u001b[0;31mKeyboardInterrupt\u001b[0m                         Traceback (most recent call last)",
            "\u001b[0;32m<ipython-input-19-f14139c2a566>\u001b[0m in \u001b[0;36m<module>\u001b[0;34m()\u001b[0m\n\u001b[1;32m      2\u001b[0m \u001b[0;32mfor\u001b[0m \u001b[0murlC\u001b[0m \u001b[0;32min\u001b[0m \u001b[0mcourse_URL\u001b[0m\u001b[0;34m:\u001b[0m\u001b[0;34m\u001b[0m\u001b[0;34m\u001b[0m\u001b[0m\n\u001b[1;32m      3\u001b[0m     \u001b[0murl_course\u001b[0m\u001b[0;34m=\u001b[0m\u001b[0;34m\"https://www.coursera.org/specializations/deep-learning\"\u001b[0m\u001b[0;34m\u001b[0m\u001b[0;34m\u001b[0m\u001b[0m\n\u001b[0;32m----> 4\u001b[0;31m     \u001b[0mpage_course\u001b[0m \u001b[0;34m=\u001b[0m \u001b[0mrequests\u001b[0m\u001b[0;34m.\u001b[0m\u001b[0mget\u001b[0m\u001b[0;34m(\u001b[0m\u001b[0murl_course\u001b[0m\u001b[0;34m)\u001b[0m\u001b[0;34m\u001b[0m\u001b[0;34m\u001b[0m\u001b[0m\n\u001b[0m\u001b[1;32m      5\u001b[0m     \u001b[0msoup_course\u001b[0m \u001b[0;34m=\u001b[0m \u001b[0mBeautifulSoup\u001b[0m\u001b[0;34m(\u001b[0m\u001b[0mpage_course\u001b[0m\u001b[0;34m.\u001b[0m\u001b[0mcontent\u001b[0m\u001b[0;34m,\u001b[0m \u001b[0;34m'html.parser'\u001b[0m\u001b[0;34m)\u001b[0m\u001b[0;34m\u001b[0m\u001b[0;34m\u001b[0m\u001b[0m\n\u001b[1;32m      6\u001b[0m     \u001b[0minstructor\u001b[0m\u001b[0;34m=\u001b[0m \u001b[0msoup_course\u001b[0m\u001b[0;34m.\u001b[0m\u001b[0mfind\u001b[0m\u001b[0;34m(\u001b[0m\u001b[0;34m'h3'\u001b[0m\u001b[0;34m,\u001b[0m \u001b[0mclass_\u001b[0m \u001b[0;34m=\u001b[0m \u001b[0;34m'instructor-name headline-3-text bold'\u001b[0m\u001b[0;34m)\u001b[0m\u001b[0;34m.\u001b[0m\u001b[0mget_text\u001b[0m\u001b[0;34m(\u001b[0m\u001b[0;34m)\u001b[0m\u001b[0;34m\u001b[0m\u001b[0;34m\u001b[0m\u001b[0m\n",
            "\u001b[0;32m/usr/local/lib/python3.6/dist-packages/requests/api.py\u001b[0m in \u001b[0;36mget\u001b[0;34m(url, params, **kwargs)\u001b[0m\n\u001b[1;32m     74\u001b[0m \u001b[0;34m\u001b[0m\u001b[0m\n\u001b[1;32m     75\u001b[0m     \u001b[0mkwargs\u001b[0m\u001b[0;34m.\u001b[0m\u001b[0msetdefault\u001b[0m\u001b[0;34m(\u001b[0m\u001b[0;34m'allow_redirects'\u001b[0m\u001b[0;34m,\u001b[0m \u001b[0;32mTrue\u001b[0m\u001b[0;34m)\u001b[0m\u001b[0;34m\u001b[0m\u001b[0;34m\u001b[0m\u001b[0m\n\u001b[0;32m---> 76\u001b[0;31m     \u001b[0;32mreturn\u001b[0m \u001b[0mrequest\u001b[0m\u001b[0;34m(\u001b[0m\u001b[0;34m'get'\u001b[0m\u001b[0;34m,\u001b[0m \u001b[0murl\u001b[0m\u001b[0;34m,\u001b[0m \u001b[0mparams\u001b[0m\u001b[0;34m=\u001b[0m\u001b[0mparams\u001b[0m\u001b[0;34m,\u001b[0m \u001b[0;34m**\u001b[0m\u001b[0mkwargs\u001b[0m\u001b[0;34m)\u001b[0m\u001b[0;34m\u001b[0m\u001b[0;34m\u001b[0m\u001b[0m\n\u001b[0m\u001b[1;32m     77\u001b[0m \u001b[0;34m\u001b[0m\u001b[0m\n\u001b[1;32m     78\u001b[0m \u001b[0;34m\u001b[0m\u001b[0m\n",
            "\u001b[0;32m/usr/local/lib/python3.6/dist-packages/requests/api.py\u001b[0m in \u001b[0;36mrequest\u001b[0;34m(method, url, **kwargs)\u001b[0m\n\u001b[1;32m     59\u001b[0m     \u001b[0;31m# cases, and look like a memory leak in others.\u001b[0m\u001b[0;34m\u001b[0m\u001b[0;34m\u001b[0m\u001b[0;34m\u001b[0m\u001b[0m\n\u001b[1;32m     60\u001b[0m     \u001b[0;32mwith\u001b[0m \u001b[0msessions\u001b[0m\u001b[0;34m.\u001b[0m\u001b[0mSession\u001b[0m\u001b[0;34m(\u001b[0m\u001b[0;34m)\u001b[0m \u001b[0;32mas\u001b[0m \u001b[0msession\u001b[0m\u001b[0;34m:\u001b[0m\u001b[0;34m\u001b[0m\u001b[0;34m\u001b[0m\u001b[0m\n\u001b[0;32m---> 61\u001b[0;31m         \u001b[0;32mreturn\u001b[0m \u001b[0msession\u001b[0m\u001b[0;34m.\u001b[0m\u001b[0mrequest\u001b[0m\u001b[0;34m(\u001b[0m\u001b[0mmethod\u001b[0m\u001b[0;34m=\u001b[0m\u001b[0mmethod\u001b[0m\u001b[0;34m,\u001b[0m \u001b[0murl\u001b[0m\u001b[0;34m=\u001b[0m\u001b[0murl\u001b[0m\u001b[0;34m,\u001b[0m \u001b[0;34m**\u001b[0m\u001b[0mkwargs\u001b[0m\u001b[0;34m)\u001b[0m\u001b[0;34m\u001b[0m\u001b[0;34m\u001b[0m\u001b[0m\n\u001b[0m\u001b[1;32m     62\u001b[0m \u001b[0;34m\u001b[0m\u001b[0m\n\u001b[1;32m     63\u001b[0m \u001b[0;34m\u001b[0m\u001b[0m\n",
            "\u001b[0;32m/usr/local/lib/python3.6/dist-packages/requests/sessions.py\u001b[0m in \u001b[0;36mrequest\u001b[0;34m(self, method, url, params, data, headers, cookies, files, auth, timeout, allow_redirects, proxies, hooks, stream, verify, cert, json)\u001b[0m\n\u001b[1;32m    528\u001b[0m         }\n\u001b[1;32m    529\u001b[0m         \u001b[0msend_kwargs\u001b[0m\u001b[0;34m.\u001b[0m\u001b[0mupdate\u001b[0m\u001b[0;34m(\u001b[0m\u001b[0msettings\u001b[0m\u001b[0;34m)\u001b[0m\u001b[0;34m\u001b[0m\u001b[0;34m\u001b[0m\u001b[0m\n\u001b[0;32m--> 530\u001b[0;31m         \u001b[0mresp\u001b[0m \u001b[0;34m=\u001b[0m \u001b[0mself\u001b[0m\u001b[0;34m.\u001b[0m\u001b[0msend\u001b[0m\u001b[0;34m(\u001b[0m\u001b[0mprep\u001b[0m\u001b[0;34m,\u001b[0m \u001b[0;34m**\u001b[0m\u001b[0msend_kwargs\u001b[0m\u001b[0;34m)\u001b[0m\u001b[0;34m\u001b[0m\u001b[0;34m\u001b[0m\u001b[0m\n\u001b[0m\u001b[1;32m    531\u001b[0m \u001b[0;34m\u001b[0m\u001b[0m\n\u001b[1;32m    532\u001b[0m         \u001b[0;32mreturn\u001b[0m \u001b[0mresp\u001b[0m\u001b[0;34m\u001b[0m\u001b[0;34m\u001b[0m\u001b[0m\n",
            "\u001b[0;32m/usr/local/lib/python3.6/dist-packages/requests/sessions.py\u001b[0m in \u001b[0;36msend\u001b[0;34m(self, request, **kwargs)\u001b[0m\n\u001b[1;32m    641\u001b[0m \u001b[0;34m\u001b[0m\u001b[0m\n\u001b[1;32m    642\u001b[0m         \u001b[0;31m# Send the request\u001b[0m\u001b[0;34m\u001b[0m\u001b[0;34m\u001b[0m\u001b[0;34m\u001b[0m\u001b[0m\n\u001b[0;32m--> 643\u001b[0;31m         \u001b[0mr\u001b[0m \u001b[0;34m=\u001b[0m \u001b[0madapter\u001b[0m\u001b[0;34m.\u001b[0m\u001b[0msend\u001b[0m\u001b[0;34m(\u001b[0m\u001b[0mrequest\u001b[0m\u001b[0;34m,\u001b[0m \u001b[0;34m**\u001b[0m\u001b[0mkwargs\u001b[0m\u001b[0;34m)\u001b[0m\u001b[0;34m\u001b[0m\u001b[0;34m\u001b[0m\u001b[0m\n\u001b[0m\u001b[1;32m    644\u001b[0m \u001b[0;34m\u001b[0m\u001b[0m\n\u001b[1;32m    645\u001b[0m         \u001b[0;31m# Total elapsed time of the request (approximately)\u001b[0m\u001b[0;34m\u001b[0m\u001b[0;34m\u001b[0m\u001b[0;34m\u001b[0m\u001b[0m\n",
            "\u001b[0;32m/usr/local/lib/python3.6/dist-packages/requests/adapters.py\u001b[0m in \u001b[0;36msend\u001b[0;34m(self, request, stream, timeout, verify, cert, proxies)\u001b[0m\n\u001b[1;32m    447\u001b[0m                     \u001b[0mdecode_content\u001b[0m\u001b[0;34m=\u001b[0m\u001b[0;32mFalse\u001b[0m\u001b[0;34m,\u001b[0m\u001b[0;34m\u001b[0m\u001b[0;34m\u001b[0m\u001b[0m\n\u001b[1;32m    448\u001b[0m                     \u001b[0mretries\u001b[0m\u001b[0;34m=\u001b[0m\u001b[0mself\u001b[0m\u001b[0;34m.\u001b[0m\u001b[0mmax_retries\u001b[0m\u001b[0;34m,\u001b[0m\u001b[0;34m\u001b[0m\u001b[0;34m\u001b[0m\u001b[0m\n\u001b[0;32m--> 449\u001b[0;31m                     \u001b[0mtimeout\u001b[0m\u001b[0;34m=\u001b[0m\u001b[0mtimeout\u001b[0m\u001b[0;34m\u001b[0m\u001b[0;34m\u001b[0m\u001b[0m\n\u001b[0m\u001b[1;32m    450\u001b[0m                 )\n\u001b[1;32m    451\u001b[0m \u001b[0;34m\u001b[0m\u001b[0m\n",
            "\u001b[0;32m/usr/local/lib/python3.6/dist-packages/urllib3/connectionpool.py\u001b[0m in \u001b[0;36murlopen\u001b[0;34m(self, method, url, body, headers, retries, redirect, assert_same_host, timeout, pool_timeout, release_conn, chunked, body_pos, **response_kw)\u001b[0m\n\u001b[1;32m    598\u001b[0m                                                   \u001b[0mtimeout\u001b[0m\u001b[0;34m=\u001b[0m\u001b[0mtimeout_obj\u001b[0m\u001b[0;34m,\u001b[0m\u001b[0;34m\u001b[0m\u001b[0;34m\u001b[0m\u001b[0m\n\u001b[1;32m    599\u001b[0m                                                   \u001b[0mbody\u001b[0m\u001b[0;34m=\u001b[0m\u001b[0mbody\u001b[0m\u001b[0;34m,\u001b[0m \u001b[0mheaders\u001b[0m\u001b[0;34m=\u001b[0m\u001b[0mheaders\u001b[0m\u001b[0;34m,\u001b[0m\u001b[0;34m\u001b[0m\u001b[0;34m\u001b[0m\u001b[0m\n\u001b[0;32m--> 600\u001b[0;31m                                                   chunked=chunked)\n\u001b[0m\u001b[1;32m    601\u001b[0m \u001b[0;34m\u001b[0m\u001b[0m\n\u001b[1;32m    602\u001b[0m             \u001b[0;31m# If we're going to release the connection in ``finally:``, then\u001b[0m\u001b[0;34m\u001b[0m\u001b[0;34m\u001b[0m\u001b[0;34m\u001b[0m\u001b[0m\n",
            "\u001b[0;32m/usr/local/lib/python3.6/dist-packages/urllib3/connectionpool.py\u001b[0m in \u001b[0;36m_make_request\u001b[0;34m(self, conn, method, url, timeout, chunked, **httplib_request_kw)\u001b[0m\n\u001b[1;32m    378\u001b[0m             \u001b[0;32mexcept\u001b[0m \u001b[0mTypeError\u001b[0m\u001b[0;34m:\u001b[0m  \u001b[0;31m# Python 3\u001b[0m\u001b[0;34m\u001b[0m\u001b[0;34m\u001b[0m\u001b[0m\n\u001b[1;32m    379\u001b[0m                 \u001b[0;32mtry\u001b[0m\u001b[0;34m:\u001b[0m\u001b[0;34m\u001b[0m\u001b[0;34m\u001b[0m\u001b[0m\n\u001b[0;32m--> 380\u001b[0;31m                     \u001b[0mhttplib_response\u001b[0m \u001b[0;34m=\u001b[0m \u001b[0mconn\u001b[0m\u001b[0;34m.\u001b[0m\u001b[0mgetresponse\u001b[0m\u001b[0;34m(\u001b[0m\u001b[0;34m)\u001b[0m\u001b[0;34m\u001b[0m\u001b[0;34m\u001b[0m\u001b[0m\n\u001b[0m\u001b[1;32m    381\u001b[0m                 \u001b[0;32mexcept\u001b[0m \u001b[0mException\u001b[0m \u001b[0;32mas\u001b[0m \u001b[0me\u001b[0m\u001b[0;34m:\u001b[0m\u001b[0;34m\u001b[0m\u001b[0;34m\u001b[0m\u001b[0m\n\u001b[1;32m    382\u001b[0m                     \u001b[0;31m# Remove the TypeError from the exception chain in Python 3;\u001b[0m\u001b[0;34m\u001b[0m\u001b[0;34m\u001b[0m\u001b[0;34m\u001b[0m\u001b[0m\n",
            "\u001b[0;32m/usr/lib/python3.6/http/client.py\u001b[0m in \u001b[0;36mgetresponse\u001b[0;34m(self)\u001b[0m\n\u001b[1;32m   1354\u001b[0m         \u001b[0;32mtry\u001b[0m\u001b[0;34m:\u001b[0m\u001b[0;34m\u001b[0m\u001b[0;34m\u001b[0m\u001b[0m\n\u001b[1;32m   1355\u001b[0m             \u001b[0;32mtry\u001b[0m\u001b[0;34m:\u001b[0m\u001b[0;34m\u001b[0m\u001b[0;34m\u001b[0m\u001b[0m\n\u001b[0;32m-> 1356\u001b[0;31m                 \u001b[0mresponse\u001b[0m\u001b[0;34m.\u001b[0m\u001b[0mbegin\u001b[0m\u001b[0;34m(\u001b[0m\u001b[0;34m)\u001b[0m\u001b[0;34m\u001b[0m\u001b[0;34m\u001b[0m\u001b[0m\n\u001b[0m\u001b[1;32m   1357\u001b[0m             \u001b[0;32mexcept\u001b[0m \u001b[0mConnectionError\u001b[0m\u001b[0;34m:\u001b[0m\u001b[0;34m\u001b[0m\u001b[0;34m\u001b[0m\u001b[0m\n\u001b[1;32m   1358\u001b[0m                 \u001b[0mself\u001b[0m\u001b[0;34m.\u001b[0m\u001b[0mclose\u001b[0m\u001b[0;34m(\u001b[0m\u001b[0;34m)\u001b[0m\u001b[0;34m\u001b[0m\u001b[0;34m\u001b[0m\u001b[0m\n",
            "\u001b[0;32m/usr/lib/python3.6/http/client.py\u001b[0m in \u001b[0;36mbegin\u001b[0;34m(self)\u001b[0m\n\u001b[1;32m    305\u001b[0m         \u001b[0;31m# read until we get a non-100 response\u001b[0m\u001b[0;34m\u001b[0m\u001b[0;34m\u001b[0m\u001b[0;34m\u001b[0m\u001b[0m\n\u001b[1;32m    306\u001b[0m         \u001b[0;32mwhile\u001b[0m \u001b[0;32mTrue\u001b[0m\u001b[0;34m:\u001b[0m\u001b[0;34m\u001b[0m\u001b[0;34m\u001b[0m\u001b[0m\n\u001b[0;32m--> 307\u001b[0;31m             \u001b[0mversion\u001b[0m\u001b[0;34m,\u001b[0m \u001b[0mstatus\u001b[0m\u001b[0;34m,\u001b[0m \u001b[0mreason\u001b[0m \u001b[0;34m=\u001b[0m \u001b[0mself\u001b[0m\u001b[0;34m.\u001b[0m\u001b[0m_read_status\u001b[0m\u001b[0;34m(\u001b[0m\u001b[0;34m)\u001b[0m\u001b[0;34m\u001b[0m\u001b[0;34m\u001b[0m\u001b[0m\n\u001b[0m\u001b[1;32m    308\u001b[0m             \u001b[0;32mif\u001b[0m \u001b[0mstatus\u001b[0m \u001b[0;34m!=\u001b[0m \u001b[0mCONTINUE\u001b[0m\u001b[0;34m:\u001b[0m\u001b[0;34m\u001b[0m\u001b[0;34m\u001b[0m\u001b[0m\n\u001b[1;32m    309\u001b[0m                 \u001b[0;32mbreak\u001b[0m\u001b[0;34m\u001b[0m\u001b[0;34m\u001b[0m\u001b[0m\n",
            "\u001b[0;32m/usr/lib/python3.6/http/client.py\u001b[0m in \u001b[0;36m_read_status\u001b[0;34m(self)\u001b[0m\n\u001b[1;32m    266\u001b[0m \u001b[0;34m\u001b[0m\u001b[0m\n\u001b[1;32m    267\u001b[0m     \u001b[0;32mdef\u001b[0m \u001b[0m_read_status\u001b[0m\u001b[0;34m(\u001b[0m\u001b[0mself\u001b[0m\u001b[0;34m)\u001b[0m\u001b[0;34m:\u001b[0m\u001b[0;34m\u001b[0m\u001b[0;34m\u001b[0m\u001b[0m\n\u001b[0;32m--> 268\u001b[0;31m         \u001b[0mline\u001b[0m \u001b[0;34m=\u001b[0m \u001b[0mstr\u001b[0m\u001b[0;34m(\u001b[0m\u001b[0mself\u001b[0m\u001b[0;34m.\u001b[0m\u001b[0mfp\u001b[0m\u001b[0;34m.\u001b[0m\u001b[0mreadline\u001b[0m\u001b[0;34m(\u001b[0m\u001b[0m_MAXLINE\u001b[0m \u001b[0;34m+\u001b[0m \u001b[0;36m1\u001b[0m\u001b[0;34m)\u001b[0m\u001b[0;34m,\u001b[0m \u001b[0;34m\"iso-8859-1\"\u001b[0m\u001b[0;34m)\u001b[0m\u001b[0;34m\u001b[0m\u001b[0;34m\u001b[0m\u001b[0m\n\u001b[0m\u001b[1;32m    269\u001b[0m         \u001b[0;32mif\u001b[0m \u001b[0mlen\u001b[0m\u001b[0;34m(\u001b[0m\u001b[0mline\u001b[0m\u001b[0;34m)\u001b[0m \u001b[0;34m>\u001b[0m \u001b[0m_MAXLINE\u001b[0m\u001b[0;34m:\u001b[0m\u001b[0;34m\u001b[0m\u001b[0;34m\u001b[0m\u001b[0m\n\u001b[1;32m    270\u001b[0m             \u001b[0;32mraise\u001b[0m \u001b[0mLineTooLong\u001b[0m\u001b[0;34m(\u001b[0m\u001b[0;34m\"status line\"\u001b[0m\u001b[0;34m)\u001b[0m\u001b[0;34m\u001b[0m\u001b[0;34m\u001b[0m\u001b[0m\n",
            "\u001b[0;32m/usr/lib/python3.6/socket.py\u001b[0m in \u001b[0;36mreadinto\u001b[0;34m(self, b)\u001b[0m\n\u001b[1;32m    584\u001b[0m         \u001b[0;32mwhile\u001b[0m \u001b[0;32mTrue\u001b[0m\u001b[0;34m:\u001b[0m\u001b[0;34m\u001b[0m\u001b[0;34m\u001b[0m\u001b[0m\n\u001b[1;32m    585\u001b[0m             \u001b[0;32mtry\u001b[0m\u001b[0;34m:\u001b[0m\u001b[0;34m\u001b[0m\u001b[0;34m\u001b[0m\u001b[0m\n\u001b[0;32m--> 586\u001b[0;31m                 \u001b[0;32mreturn\u001b[0m \u001b[0mself\u001b[0m\u001b[0;34m.\u001b[0m\u001b[0m_sock\u001b[0m\u001b[0;34m.\u001b[0m\u001b[0mrecv_into\u001b[0m\u001b[0;34m(\u001b[0m\u001b[0mb\u001b[0m\u001b[0;34m)\u001b[0m\u001b[0;34m\u001b[0m\u001b[0;34m\u001b[0m\u001b[0m\n\u001b[0m\u001b[1;32m    587\u001b[0m             \u001b[0;32mexcept\u001b[0m \u001b[0mtimeout\u001b[0m\u001b[0;34m:\u001b[0m\u001b[0;34m\u001b[0m\u001b[0;34m\u001b[0m\u001b[0m\n\u001b[1;32m    588\u001b[0m                 \u001b[0mself\u001b[0m\u001b[0;34m.\u001b[0m\u001b[0m_timeout_occurred\u001b[0m \u001b[0;34m=\u001b[0m \u001b[0;32mTrue\u001b[0m\u001b[0;34m\u001b[0m\u001b[0;34m\u001b[0m\u001b[0m\n",
            "\u001b[0;32m/usr/lib/python3.6/ssl.py\u001b[0m in \u001b[0;36mrecv_into\u001b[0;34m(self, buffer, nbytes, flags)\u001b[0m\n\u001b[1;32m   1010\u001b[0m                   \u001b[0;34m\"non-zero flags not allowed in calls to recv_into() on %s\"\u001b[0m \u001b[0;34m%\u001b[0m\u001b[0;34m\u001b[0m\u001b[0;34m\u001b[0m\u001b[0m\n\u001b[1;32m   1011\u001b[0m                   self.__class__)\n\u001b[0;32m-> 1012\u001b[0;31m             \u001b[0;32mreturn\u001b[0m \u001b[0mself\u001b[0m\u001b[0;34m.\u001b[0m\u001b[0mread\u001b[0m\u001b[0;34m(\u001b[0m\u001b[0mnbytes\u001b[0m\u001b[0;34m,\u001b[0m \u001b[0mbuffer\u001b[0m\u001b[0;34m)\u001b[0m\u001b[0;34m\u001b[0m\u001b[0;34m\u001b[0m\u001b[0m\n\u001b[0m\u001b[1;32m   1013\u001b[0m         \u001b[0;32melse\u001b[0m\u001b[0;34m:\u001b[0m\u001b[0;34m\u001b[0m\u001b[0;34m\u001b[0m\u001b[0m\n\u001b[1;32m   1014\u001b[0m             \u001b[0;32mreturn\u001b[0m \u001b[0msocket\u001b[0m\u001b[0;34m.\u001b[0m\u001b[0mrecv_into\u001b[0m\u001b[0;34m(\u001b[0m\u001b[0mself\u001b[0m\u001b[0;34m,\u001b[0m \u001b[0mbuffer\u001b[0m\u001b[0;34m,\u001b[0m \u001b[0mnbytes\u001b[0m\u001b[0;34m,\u001b[0m \u001b[0mflags\u001b[0m\u001b[0;34m)\u001b[0m\u001b[0;34m\u001b[0m\u001b[0;34m\u001b[0m\u001b[0m\n",
            "\u001b[0;32m/usr/lib/python3.6/ssl.py\u001b[0m in \u001b[0;36mread\u001b[0;34m(self, len, buffer)\u001b[0m\n\u001b[1;32m    872\u001b[0m             \u001b[0;32mraise\u001b[0m \u001b[0mValueError\u001b[0m\u001b[0;34m(\u001b[0m\u001b[0;34m\"Read on closed or unwrapped SSL socket.\"\u001b[0m\u001b[0;34m)\u001b[0m\u001b[0;34m\u001b[0m\u001b[0;34m\u001b[0m\u001b[0m\n\u001b[1;32m    873\u001b[0m         \u001b[0;32mtry\u001b[0m\u001b[0;34m:\u001b[0m\u001b[0;34m\u001b[0m\u001b[0;34m\u001b[0m\u001b[0m\n\u001b[0;32m--> 874\u001b[0;31m             \u001b[0;32mreturn\u001b[0m \u001b[0mself\u001b[0m\u001b[0;34m.\u001b[0m\u001b[0m_sslobj\u001b[0m\u001b[0;34m.\u001b[0m\u001b[0mread\u001b[0m\u001b[0;34m(\u001b[0m\u001b[0mlen\u001b[0m\u001b[0;34m,\u001b[0m \u001b[0mbuffer\u001b[0m\u001b[0;34m)\u001b[0m\u001b[0;34m\u001b[0m\u001b[0;34m\u001b[0m\u001b[0m\n\u001b[0m\u001b[1;32m    875\u001b[0m         \u001b[0;32mexcept\u001b[0m \u001b[0mSSLError\u001b[0m \u001b[0;32mas\u001b[0m \u001b[0mx\u001b[0m\u001b[0;34m:\u001b[0m\u001b[0;34m\u001b[0m\u001b[0;34m\u001b[0m\u001b[0m\n\u001b[1;32m    876\u001b[0m             \u001b[0;32mif\u001b[0m \u001b[0mx\u001b[0m\u001b[0;34m.\u001b[0m\u001b[0margs\u001b[0m\u001b[0;34m[\u001b[0m\u001b[0;36m0\u001b[0m\u001b[0;34m]\u001b[0m \u001b[0;34m==\u001b[0m \u001b[0mSSL_ERROR_EOF\u001b[0m \u001b[0;32mand\u001b[0m \u001b[0mself\u001b[0m\u001b[0;34m.\u001b[0m\u001b[0msuppress_ragged_eofs\u001b[0m\u001b[0;34m:\u001b[0m\u001b[0;34m\u001b[0m\u001b[0;34m\u001b[0m\u001b[0m\n",
            "\u001b[0;32m/usr/lib/python3.6/ssl.py\u001b[0m in \u001b[0;36mread\u001b[0;34m(self, len, buffer)\u001b[0m\n\u001b[1;32m    629\u001b[0m         \"\"\"\n\u001b[1;32m    630\u001b[0m         \u001b[0;32mif\u001b[0m \u001b[0mbuffer\u001b[0m \u001b[0;32mis\u001b[0m \u001b[0;32mnot\u001b[0m \u001b[0;32mNone\u001b[0m\u001b[0;34m:\u001b[0m\u001b[0;34m\u001b[0m\u001b[0;34m\u001b[0m\u001b[0m\n\u001b[0;32m--> 631\u001b[0;31m             \u001b[0mv\u001b[0m \u001b[0;34m=\u001b[0m \u001b[0mself\u001b[0m\u001b[0;34m.\u001b[0m\u001b[0m_sslobj\u001b[0m\u001b[0;34m.\u001b[0m\u001b[0mread\u001b[0m\u001b[0;34m(\u001b[0m\u001b[0mlen\u001b[0m\u001b[0;34m,\u001b[0m \u001b[0mbuffer\u001b[0m\u001b[0;34m)\u001b[0m\u001b[0;34m\u001b[0m\u001b[0;34m\u001b[0m\u001b[0m\n\u001b[0m\u001b[1;32m    632\u001b[0m         \u001b[0;32melse\u001b[0m\u001b[0;34m:\u001b[0m\u001b[0;34m\u001b[0m\u001b[0;34m\u001b[0m\u001b[0m\n\u001b[1;32m    633\u001b[0m             \u001b[0mv\u001b[0m \u001b[0;34m=\u001b[0m \u001b[0mself\u001b[0m\u001b[0;34m.\u001b[0m\u001b[0m_sslobj\u001b[0m\u001b[0;34m.\u001b[0m\u001b[0mread\u001b[0m\u001b[0;34m(\u001b[0m\u001b[0mlen\u001b[0m\u001b[0;34m)\u001b[0m\u001b[0;34m\u001b[0m\u001b[0;34m\u001b[0m\u001b[0m\n",
            "\u001b[0;31mKeyboardInterrupt\u001b[0m: "
          ]
        }
      ]
    },
    {
      "cell_type": "code",
      "metadata": {
        "id": "btt6RE-nW-e5"
      },
      "source": [
        "# Getting Course List and details\n",
        "cl= soup_course.find_all('div', class_ = '_jyhj5r CourseItem')\n",
        "for c in cl:\n",
        "    course_number=c.find('span',class_=\"_1nc68rjl text-secondary d-block m-y-1\").get_text()\n",
        "    course_title=c.find('h3',class_=\"headline-3-text bold m-t-1 m-b-2\").get_text()\n",
        "    course_list.append(course_number)\n",
        "    course_list.append(course_title)\n",
        "sub_course_list.append(course_list)"
      ],
      "execution_count": null,
      "outputs": []
    },
    {
      "cell_type": "code",
      "metadata": {
        "id": "fvoLrSjVW-fH"
      },
      "source": [
        "# Getting course price\n",
        "url_price=\"https://www.coursera.org/professional-certificates/google-it-support#enrol\"\n",
        "page_price = requests.get(url_price)\n",
        "soup_price = BeautifulSoup(page_price.content, 'html.parser')\n",
        "price= [x.get_text() for x in soup_price.find_all('span')]\n",
        "print(price)\n",
        "# since frice is in a modal-container, there are difficulties faced in scraping it"
      ],
      "execution_count": null,
      "outputs": []
    },
    {
      "cell_type": "code",
      "metadata": {
        "id": "_2F3hdkQW-fS"
      },
      "source": [
        ""
      ],
      "execution_count": null,
      "outputs": []
    }
  ]
}